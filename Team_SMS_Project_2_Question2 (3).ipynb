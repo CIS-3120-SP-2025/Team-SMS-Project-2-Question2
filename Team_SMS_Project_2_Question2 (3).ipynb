{
  "nbformat": 4,
  "nbformat_minor": 0,
  "metadata": {
    "colab": {
      "provenance": []
    },
    "kernelspec": {
      "name": "python3",
      "display_name": "Python 3"
    },
    "language_info": {
      "name": "python"
    }
  },
  "cells": [
    {
      "cell_type": "code",
      "execution_count": null,
      "metadata": {
        "id": "YKOgqW6ZHPz4"
      },
      "outputs": [],
      "source": [
        "df_mens_volleyball, mens_volleyball_avg_height = process_data(sports_teams['mens_volleyball'])\n",
        "df_mens_volleyball.to_csv('mens_volleyball.csv', index=False)\n",
        "\n",
        "df_womens_volleyball, womens_volleyball_avg_height = process_data(sports_teams['womens_volleyball'])\n",
        "df_womens_volleyball.to_csv('womens_volleyball.csv', index=False)\n",
        "\n",
        "df_mens_swimming, mens_swimming_avg_height = process_data(sports_teams['mens_swimming_diving'])\n",
        "df_mens_swimming.to_csv('mens_swimming.csv', index=False)\n",
        "\n",
        "df_womens_swimming, womens_swimming_avg_height = process_data(sports_teams['womens_swimming_diving'])\n",
        "df_womens_swimming.to_csv('womens_swimming.csv', index=False)"
      ]
    }
  ]
}